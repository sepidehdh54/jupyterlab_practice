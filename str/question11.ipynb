{
 "cells": [
  {
   "cell_type": "markdown",
   "id": "5165f046-3761-4b4b-97cc-04b31e6c459f",
   "metadata": {},
   "source": [
    "# Sepideh Darvish Heidari\n",
    "## Notebook for assignment 7"
   ]
  },
  {
   "cell_type": "code",
   "execution_count": null,
   "id": "11a80f21-46a2-463c-83c5-cc921912f83b",
   "metadata": {},
   "outputs": [],
   "source": []
  }
 ],
 "metadata": {
  "kernelspec": {
   "display_name": "Python 3 (ipykernel)",
   "language": "python",
   "name": "python3"
  },
  "language_info": {
   "codemirror_mode": {
    "name": "ipython",
    "version": 3
   },
   "file_extension": ".py",
   "mimetype": "text/x-python",
   "name": "python",
   "nbconvert_exporter": "python",
   "pygments_lexer": "ipython3",
   "version": "3.12.2"
  }
 },
 "nbformat": 4,
 "nbformat_minor": 5
}

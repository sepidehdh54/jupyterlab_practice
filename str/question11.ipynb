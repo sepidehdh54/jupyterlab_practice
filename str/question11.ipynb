{
 "cells": [
  {
   "cell_type": "markdown",
   "id": "dfd11b50-1870-461b-8ec9-502aeb59fc33",
   "metadata": {},
   "source": [
    "# Sepideh Darvish Heidari\n",
    "Notebook for assignment 7"
   ]
  },
  {
   "cell_type": "code",
   "execution_count": 3,
   "id": "cf526186-e124-4e82-9bb9-b0acfeb5c6c4",
   "metadata": {},
   "outputs": [
    {
     "name": "stdout",
     "output_type": "stream",
     "text": [
      "Mean: 5.0\n"
     ]
    }
   ],
   "source": [
    "def compute_mean(values):\n",
    "    mean = sum(values) / len(values)\n",
    "    print(\"Mean:\", mean)\n",
    "\n",
    "compute_mean([2, 4, 6, 8])"
   ]
  },
  {
   "cell_type": "markdown",
   "id": "7101091d-f261-4f66-a941-2e42186f00ff",
   "metadata": {},
   "source": [
    "This code calculates the mean of the values in a list using the formula:\n",
    "\n",
    "\\[\n",
    "\\text{Mean} = \\frac{1}{n} \\sum_{i=1}^{n} x_i\n",
    "\\]\n",
    "\n",
    "Another way to express the equation of the mean is:\n",
    "\n",
    "\\[\n",
    "\\text{Mean} = \\frac{x_1 + x_2 + \\ldots + x_n}{n}\n",
    "\\]"
   ]
  },
  {
   "cell_type": "markdown",
   "id": "fcf08fed-d1cd-4a93-b755-a785f4819310",
   "metadata": {},
   "source": [
    "![AnswerScreenshot](image/Screenshot_Mean_Formula.jpg)"
   ]
  },
  {
   "cell_type": "code",
   "execution_count": null,
   "id": "fd871f64-637a-483c-a851-2790a61330ff",
   "metadata": {},
   "outputs": [],
   "source": []
  }
 ],
 "metadata": {
  "kernelspec": {
   "display_name": "Python 3 (ipykernel)",
   "language": "python",
   "name": "python3"
  },
  "language_info": {
   "codemirror_mode": {
    "name": "ipython",
    "version": 3
   },
   "file_extension": ".py",
   "mimetype": "text/x-python",
   "name": "python",
   "nbconvert_exporter": "python",
   "pygments_lexer": "ipython3",
   "version": "3.12.2"
  }
 },
 "nbformat": 4,
 "nbformat_minor": 5
}
